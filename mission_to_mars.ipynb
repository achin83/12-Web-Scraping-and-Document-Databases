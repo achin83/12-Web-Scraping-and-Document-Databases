{
 "cells": [
  {
   "cell_type": "code",
   "execution_count": 1,
   "metadata": {},
   "outputs": [],
   "source": [
    "from bs4 import BeautifulSoup as bs\n",
    "import pandas as pd\n",
    "import pymongo\n",
    "from pprint import pprint\n",
    "import requests\n",
    "from splinter import Browser\n",
    "import lxml"
   ]
  },
  {
   "cell_type": "code",
   "execution_count": 2,
   "metadata": {},
   "outputs": [],
   "source": [
    "#MARS NEWS\n",
    "executable_path = {'executable_path': 'chromedriver.exe'}\n",
    "browser = Browser('chrome', **executable_path, headless=False)\n",
    "url = 'https://mars.nasa.gov/news/'\n",
    "browser.visit(url)"
   ]
  },
  {
   "cell_type": "code",
   "execution_count": 3,
   "metadata": {},
   "outputs": [],
   "source": [
    "#Prepare empty list for headlines and paragraphs\n",
    "news_info=[]\n",
    "\n",
    "html = browser.html\n",
    "soup = bs(html, 'lxml')\n",
    "results = soup.find_all('div', class_='list_text')\n",
    "\n",
    "#Loop through results to get the headlines and paragraphs\n",
    "for result in results:\n",
    "    try:\n",
    "        news_title = result.a.text\n",
    "        news_paragraph = result.find('div', class_='article_teaser_body').text\n",
    "        \n",
    "        news_info.append({\"Headline\": news_title,\n",
    "                          \"Paragraph\": news_paragraph})\n",
    "\n",
    "    except Exception as e:\n",
    "        print(e)"
   ]
  },
  {
   "cell_type": "code",
   "execution_count": 4,
   "metadata": {},
   "outputs": [
    {
     "data": {
      "text/plain": [
       "[{'Headline': 'Curiosity on the Move Again',\n",
       "  'Paragraph': \"NASA's Mars Curiosity rover drove about 197 feet over the weekend to a site called Lake Orcadie, pushing its total odometry to over 12 miles.\"},\n",
       " {'Headline': 'The Mars InSight Landing Site Is Just Plain Perfect',\n",
       "  'Paragraph': 'If the InSight landing zone were ice cream, it would be vanilla.'},\n",
       " {'Headline': \"Five Things to Know About InSight's Mars Landing\",\n",
       "  'Paragraph': \"NASA engineers will be holding their breath when their spacecraft heads into Mars' atmosphere on Nov. 26.\"},\n",
       " {'Headline': 'NASA Launches a New Podcast to Mars',\n",
       "  'Paragraph': \"NASA's new eight-episode series 'On a Mission' follows the InSight spacecraft on its journey to Mars and details the extraordinary challenges of landing on the Red Planet.\"},\n",
       " {'Headline': 'Update on Opportunity Rover Recovery Efforts',\n",
       "  'Paragraph': 'After a review of the progress of the listening campaign, NASA will continue its current strategy for attempting to make contact with the Opportunity rover for the foreseeable future.'},\n",
       " {'Headline': 'Third ASPIRE Test Confirms Mars 2020 Parachute a Go',\n",
       "  'Paragraph': 'The supersonic parachute that will handle the heaviest payload yet to the Red Planet – Mars 2020 rover – passes its final sounding rocket test with flying colors.'},\n",
       " {'Headline': 'NASA to Host Briefing on November Mars InSight Landing',\n",
       "  'Paragraph': \"A briefing on NASA's upcoming InSight Mars landing will air on Wed. Oct. 31 at 1:30 p.m. EDT (10:30 a.m. PDT) on NASA TV, the agency's website and NASA InSight Facebook Page.\"},\n",
       " {'Headline': \"NASA's InSight Will Study Mars While Standing Still\",\n",
       "  'Paragraph': \"The lander's unique science can teach us how planets are born.\"},\n",
       " {'Headline': \"NASA's First Image of Mars from a CubeSat\",\n",
       "  'Paragraph': 'The image was produced by one of the twin briefcase-sized MarCO spacecraft, the first CubeSats to fly to deep space.'},\n",
       " {'Headline': \"The 'Claw Game' on Mars: NASA InSight Plays to Win\",\n",
       "  'Paragraph': \"NASA's InSight lander will be the first mission to use a robotic arm to grasp instruments from the spacecraft and place them on the surface of another planet. \"},\n",
       " {'Headline': 'Scientists to Debate Landing Site for Next Mars Rover',\n",
       "  'Paragraph': \"Hundreds of scientists and Mars-exploration enthusiasts gather this week to present, discuss and deliberate the future landing site for NASA's next Red Planet. \"},\n",
       " {'Headline': 'Mars Virtual Reality Software Wins NASA Award',\n",
       "  'Paragraph': \"A mixed-reality software that allows scientists and engineers to virtually walk on Mars has received NASA's 2018 Software of the Year Award.\"},\n",
       " {'Headline': 'Painting Cars for Mars',\n",
       "  'Paragraph': \"What does NASA do to get a rover ready for Mars? JPL's paint shop does a thousand different paint jobs a year. And while every piece of spacecraft that comes through the shop is important, one headed for the Red Planet adds a little extra oomph.\"},\n",
       " {'Headline': 'Opportunity Emerges in a Dusty Picture',\n",
       "  'Paragraph': \"NASA still hasn't heard from the Opportunity rover, but at least the agency can see it again.\"},\n",
       " {'Headline': 'NASA Seeking Partner in Contest to Name Next Mars Rover',\n",
       "  'Paragraph': 'NASA has a class assignment for corporations, nonprofits and educational organizations involved in science and space exploration: partner with the agency to inspire future engineers and scientists by sponsoring a contest to name the next rover to venture to the Red Planet.'},\n",
       " {'Headline': \"NASA's MAVEN Selfie Marks Four Years in Orbit at Mars\",\n",
       "  'Paragraph': 'NASA’s MAVEN spacecraft celebrates four years in Mars orbit with a selfie.'},\n",
       " {'Headline': 'MarCO Makes Space for Small Explorers',\n",
       "  'Paragraph': 'A pair of NASA CubeSats flying to Mars are opening a new frontier for small spacecraft.'},\n",
       " {'Headline': 'Curiosity Surveys a Mystery Under Dusty Skies',\n",
       "  'Paragraph': \"NASA's Curiosity rover surveyed its surroundings on Mars, producing a 360-degree panorama of its current location on Vera Rubin Ridge.\"},\n",
       " {'Headline': \"NASA's InSight Has a Thermometer for Mars\",\n",
       "  'Paragraph': \"The mission's heat probe could reveal how the planet's towering volcanoes formed.\"},\n",
       " {'Headline': 'Digital Creators: Apply for NASA Mars Landing Event',\n",
       "  'Paragraph': \"Up to 30 multimedia participants will be selected for a special two-day event at JPL culminating in the InSight spacecraft's landing on Mars. Apply by Sept. 3.\"},\n",
       " {'Headline': \"NASA's InSight Passes Halfway to Mars, Instruments Check In\",\n",
       "  'Paragraph': \"NASA's InSight spacecraft, en route to a Nov. 26 landing on Mars, passed the halfway mark on Aug. 6. All of its instruments have been tested and are working well.\"},\n",
       " {'Headline': \"Six Things About Opportunity's Recovery Efforts\",\n",
       "  'Paragraph': 'The global dust storm on Mars could soon let in enough sunlight for the Opportunity rover to recharge.'},\n",
       " {'Headline': \"Meet the People Behind NASA's InSight Mars Lander\",\n",
       "  'Paragraph': 'A series of NASA videos highlight scientists and engineers leading the next mission to Mars.'},\n",
       " {'Headline': 'Mars Terraforming Not Possible Using Present-Day Technology',\n",
       "  'Paragraph': 'Transforming the inhospitable Martian environment into a place astronauts could explore without life support is not possible without technology well beyond today’s capabilities.'},\n",
       " {'Headline': 'Opportunity Hunkers Down During Dust Storm',\n",
       "  'Paragraph': \"It's the beginning of the end for the planet-encircling dust storm on Mars. But it could still be weeks, or even months, before skies are clear enough for NASA's Opportunity rover to recharge its batteries and phone home. \"},\n",
       " {'Headline': 'NASA Statement on Possible Subsurface Lake near Martian South Pole',\n",
       "  'Paragraph': \"A new paper suggests that liquid water may be sitting under a layer of ice at Mars' south pole.\"},\n",
       " {'Headline': \"JPL's 'Martians' Are Coming to Griffith Observatory\",\n",
       "  'Paragraph': \"On July 30, when Mars and Earth are closer than they've been since 2003, JPL scientists and engineers will be at a free public event at Griffith Observatory in Los Angeles.\"},\n",
       " {'Headline': \"NASA's MAVEN Spacecraft Finds That 'Stolen' Electrons Enable Unusual Aurora on Mars\",\n",
       "  'Paragraph': 'Auroras appear on Earth as ghostly displays of colorful light in the night sky, usually near the poles.'},\n",
       " {'Headline': \"'Storm Chasers' on Mars Searching for Dusty Secrets\",\n",
       "  'Paragraph': \"Scientists with NASA's Mars orbiters have been waiting years for an event like the current Mars global dust storm.\"},\n",
       " {'Headline': 'NASA Mars Mission Adds Southern California Dates',\n",
       "  'Paragraph': \"Looking for summer fun? Southern California families have their choice of the beach, movies, museums -- and even NASA's next mission to Mars.\"},\n",
       " {'Headline': 'Curiosity Captures Photos of Thickening Dust',\n",
       "  'Paragraph': 'A storm of tiny dust particles has engulfed much of Mars over the last two weeks.'},\n",
       " {'Headline': 'NASA Encounters the Perfect Storm for Science',\n",
       "  'Paragraph': 'One of the most intense Martian dust storms ever observed is being studied by a record number of NASA spacecraft.'},\n",
       " {'Headline': 'Media Telecon About Mars Dust Storm, Opportunity',\n",
       "  'Paragraph': 'NASA will host a media telecon on Wednesday, June 13, about a massive Martian dust storm affecting the Opportunity rover, and how various missions can obtain unique science.'},\n",
       " {'Headline': 'NASA Finds Ancient Organic Material, Mysterious Methane on Mars',\n",
       "  'Paragraph': 'NASA’s Curiosity rover has found evidence on Mars with implications for NASA’s search for life.'},\n",
       " {'Headline': 'NASA to Host Live Discussion on New Mars Science Results',\n",
       "  'Paragraph': \"Questions are welcome during a live discussion at 11 a.m. PDT (2 p.m. EDT) Thursday, June 7, on new science results from NASA's Mars Curiosity rover.\"},\n",
       " {'Headline': \"Mars Curiosity's Labs Are Back in Action\",\n",
       "  'Paragraph': \"NASA's Curiosity rover is analyzing drilled samples on Mars in one of its onboard labs for the first time in more than a year.\"},\n",
       " {'Headline': 'NASA CubeSats Steer Toward Mars',\n",
       "  'Paragraph': 'NASA has achieved a first for the class of tiny spacecraft known as CubeSats, which are opening new access to space.'},\n",
       " {'Headline': 'Scientists Shrink Chemistry Lab to Seek Evidence of Life on Mars',\n",
       "  'Paragraph': 'An international team of scientists has created a tiny chemistry lab for a rover that will drill beneath the Martian surface looking for signs of past or present life.'},\n",
       " {'Headline': 'InSight Steers Toward Mars',\n",
       "  'Paragraph': 'The spacecraft has completed its first trajectory correction maneuver.'},\n",
       " {'Headline': 'Drilling Success: Curiosity is Collecting Mars Rocks',\n",
       "  'Paragraph': \"Engineers will now test delivering samples to instruments inside NASA's Curiosity Mars rover.\"}]"
      ]
     },
     "execution_count": 4,
     "metadata": {},
     "output_type": "execute_result"
    }
   ],
   "source": [
    "news_info"
   ]
  },
  {
   "cell_type": "code",
   "execution_count": 5,
   "metadata": {},
   "outputs": [],
   "source": [
    "#MARS IMAGE\n",
    "executable_path = {'executable_path': 'chromedriver.exe'}\n",
    "browser = Browser('chrome', **executable_path, headless=False)\n",
    "url = 'https://www.jpl.nasa.gov/spaceimages/?search=&category=Mars'\n",
    "browser.visit(url)\n",
    "html = browser.html\n",
    "soup = bs(html, 'lxml')"
   ]
  },
  {
   "cell_type": "code",
   "execution_count": 6,
   "metadata": {},
   "outputs": [
    {
     "data": {
      "text/plain": [
       "'https://www.jpl.nasa.gov/spaceimages/images/largesize/PIA22801_hires.jpg'"
      ]
     },
     "execution_count": 6,
     "metadata": {},
     "output_type": "execute_result"
    }
   ],
   "source": [
    "#Define the base image URL of high-res image\n",
    "base_imgurl = 'https://www.jpl.nasa.gov/spaceimages/images/largesize/'\n",
    "\n",
    "#Locate the image, strip into components, and get only the 8-digit image name\n",
    "image_name = soup.find('div', class_='img').find('img')['src']\n",
    "image_name = image_name.split(\"/\")[-1:][0][0:8]\n",
    "\n",
    "#Concatenate the image URL components\n",
    "featured_image_url = base_imgurl + image_name + '_hires.jpg'\n",
    "featured_image_url"
   ]
  },
  {
   "cell_type": "code",
   "execution_count": 7,
   "metadata": {},
   "outputs": [],
   "source": [
    "#MARS TWEET\n",
    "executable_path = {'executable_path': 'chromedriver.exe'}\n",
    "browser = Browser('chrome', **executable_path, headless=False)\n",
    "url = 'https://twitter.com/marswxreport?lang=en'\n",
    "browser.visit(url)\n",
    "html = browser.html\n",
    "soup = bs(html, 'lxml')"
   ]
  },
  {
   "cell_type": "code",
   "execution_count": 8,
   "metadata": {},
   "outputs": [
    {
     "data": {
      "text/plain": [
       "'Sol 2224 (2018-11-08), high 0C/32F, low -72C/-97F, pressure at 8.65 hPa, daylight 06:19-18:36'"
      ]
     },
     "execution_count": 8,
     "metadata": {},
     "output_type": "execute_result"
    }
   ],
   "source": [
    "mars_weather = soup.find('div', class_='js-tweet-text-container').find('p').text\n",
    "mars_weather"
   ]
  },
  {
   "cell_type": "code",
   "execution_count": 9,
   "metadata": {},
   "outputs": [
    {
     "name": "stdout",
     "output_type": "stream",
     "text": [
      "('<table border=\"1\" class=\"dataframe\">\\n'\n",
      " '  <thead>\\n'\n",
      " '    <tr style=\"text-align: right;\">\\n'\n",
      " '      <th></th>\\n'\n",
      " '      <th>Statistic</th>\\n'\n",
      " '      <th>Detail</th>\\n'\n",
      " '    </tr>\\n'\n",
      " '  </thead>\\n'\n",
      " '  <tbody>\\n'\n",
      " '    <tr>\\n'\n",
      " '      <th>0</th>\\n'\n",
      " '      <td>Equatorial Diameter:</td>\\n'\n",
      " '      <td>6,792 km</td>\\n'\n",
      " '    </tr>\\n'\n",
      " '    <tr>\\n'\n",
      " '      <th>1</th>\\n'\n",
      " '      <td>Polar Diameter:</td>\\n'\n",
      " '      <td>6,752 km</td>\\n'\n",
      " '    </tr>\\n'\n",
      " '    <tr>\\n'\n",
      " '      <th>2</th>\\n'\n",
      " '      <td>Mass:</td>\\n'\n",
      " '      <td>6.42 x 10^23 kg (10.7% Earth)</td>\\n'\n",
      " '    </tr>\\n'\n",
      " '    <tr>\\n'\n",
      " '      <th>3</th>\\n'\n",
      " '      <td>Moons:</td>\\n'\n",
      " '      <td>2 (Phobos &amp; Deimos)</td>\\n'\n",
      " '    </tr>\\n'\n",
      " '    <tr>\\n'\n",
      " '      <th>4</th>\\n'\n",
      " '      <td>Orbit Distance:</td>\\n'\n",
      " '      <td>227,943,824 km (1.52 AU)</td>\\n'\n",
      " '    </tr>\\n'\n",
      " '    <tr>\\n'\n",
      " '      <th>5</th>\\n'\n",
      " '      <td>Orbit Period:</td>\\n'\n",
      " '      <td>687 days (1.9 years)</td>\\n'\n",
      " '    </tr>\\n'\n",
      " '    <tr>\\n'\n",
      " '      <th>6</th>\\n'\n",
      " '      <td>Surface Temperature:</td>\\n'\n",
      " '      <td>-153 to 20 °C</td>\\n'\n",
      " '    </tr>\\n'\n",
      " '    <tr>\\n'\n",
      " '      <th>7</th>\\n'\n",
      " '      <td>First Record:</td>\\n'\n",
      " '      <td>2nd millennium BC</td>\\n'\n",
      " '    </tr>\\n'\n",
      " '    <tr>\\n'\n",
      " '      <th>8</th>\\n'\n",
      " '      <td>Recorded By:</td>\\n'\n",
      " '      <td>Egyptian astronomers</td>\\n'\n",
      " '    </tr>\\n'\n",
      " '  </tbody>\\n'\n",
      " '</table>')\n"
     ]
    }
   ],
   "source": [
    "#MARS FACTS\n",
    "url = 'http://space-facts.com/mars/'\n",
    "tables = pd.read_html(url)\n",
    "\n",
    "#Specify column titles for fact table\n",
    "mars_facts = tables[0]\n",
    "mars_facts.columns = ['Statistic', 'Detail']\n",
    "\n",
    "#Convert DataFrame to HTML\n",
    "mars_facts = mars_facts.to_html()\n",
    "pprint(mars_facts)"
   ]
  },
  {
   "cell_type": "code",
   "execution_count": 39,
   "metadata": {},
   "outputs": [],
   "source": [
    "#MARS HEMISPHERES\n",
    "executable_path = {'executable_path': 'chromedriver.exe'}\n",
    "browser = Browser('chrome', **executable_path, headless=False)\n",
    "url = 'https://astrogeology.usgs.gov/search/results?q=hemisphere+enhanced&k1=target&v1=Mars'"
   ]
  },
  {
   "cell_type": "code",
   "execution_count": 50,
   "metadata": {
    "scrolled": true
   },
   "outputs": [],
   "source": [
    "browser.visit(url)\n",
    "\n",
    "#Prepare empty list to store dictionary of image links and titles\n",
    "mars_hemispheres = []\n",
    "\n",
    "#Loop through 4 hemispheres\n",
    "for i in range(4):\n",
    "\n",
    "    browser.find_by_css(\"a.product-item h3\")[i].click()\n",
    "\n",
    "    #Get the current HTML page structure\n",
    "    html = browser.html\n",
    "    soup = bs(html, 'lxml')\n",
    "    \n",
    "    #Identified from the enhanced image, this is the base URL...\n",
    "    base_url = 'https://astrogeology.usgs.gov'\n",
    "\n",
    "    #Each hemisphere image location found here...store it in a variable\n",
    "    hemisphere_image = soup.find_all('img', class_='wide-image')[0]['src']\n",
    "    image_link = base_url + hemisphere_image\n",
    "    \n",
    "    #Store the title in a variable...need to remove ' Enhanced'\n",
    "    hemisphere_title = soup.find('h2', class_='title').text.replace(' Enhanced', '')\n",
    "    \n",
    "    #Append image and title to a dictionary and append to list\n",
    "    mars_hemispheres.append({'Hemisphere': hemisphere_title,\n",
    "                             'ImageURL': image_link})\n",
    "    \n",
    "    #Back to previous page to loop through other hemispheres.\n",
    "    browser.click_link_by_text('Back')"
   ]
  },
  {
   "cell_type": "code",
   "execution_count": 51,
   "metadata": {},
   "outputs": [
    {
     "data": {
      "text/plain": [
       "[{'Hemisphere': 'Cerberus Hemisphere',\n",
       "  'ImageURL': 'https://astrogeology.usgs.gov/cache/images/cfa62af2557222a02478f1fcd781d445_cerberus_enhanced.tif_full.jpg'},\n",
       " {'Hemisphere': 'Schiaparelli Hemisphere',\n",
       "  'ImageURL': 'https://astrogeology.usgs.gov/cache/images/3cdd1cbf5e0813bba925c9030d13b62e_schiaparelli_enhanced.tif_full.jpg'},\n",
       " {'Hemisphere': 'Syrtis Major Hemisphere',\n",
       "  'ImageURL': 'https://astrogeology.usgs.gov/cache/images/ae209b4e408bb6c3e67b6af38168cf28_syrtis_major_enhanced.tif_full.jpg'},\n",
       " {'Hemisphere': 'Valles Marineris Hemisphere',\n",
       "  'ImageURL': 'https://astrogeology.usgs.gov/cache/images/7cf2da4bf549ed01c17f206327be4db7_valles_marineris_enhanced.tif_full.jpg'}]"
      ]
     },
     "execution_count": 51,
     "metadata": {},
     "output_type": "execute_result"
    }
   ],
   "source": [
    "mars_hemispheres"
   ]
  }
 ],
 "metadata": {
  "kernelspec": {
   "display_name": "Python 3",
   "language": "python",
   "name": "python3"
  },
  "language_info": {
   "codemirror_mode": {
    "name": "ipython",
    "version": 3
   },
   "file_extension": ".py",
   "mimetype": "text/x-python",
   "name": "python",
   "nbconvert_exporter": "python",
   "pygments_lexer": "ipython3",
   "version": "3.6.5"
  }
 },
 "nbformat": 4,
 "nbformat_minor": 2
}
